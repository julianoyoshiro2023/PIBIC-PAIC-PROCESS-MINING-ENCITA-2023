{
 "cells": [
  {
   "cell_type": "markdown",
   "id": "25a16e3c",
   "metadata": {},
   "source": [
    "## Pequena e Não Densa"
   ]
  },
  {
   "cell_type": "code",
   "execution_count": 1,
   "id": "847eda5c",
   "metadata": {},
   "outputs": [],
   "source": [
    "import pandas as pd\n",
    "import numpy as np\n",
    "import seaborn as sns"
   ]
  },
  {
   "cell_type": "code",
   "execution_count": 8,
   "id": "7605155e",
   "metadata": {},
   "outputs": [],
   "source": [
    "PND_alpha = pd.read_csv(\"PND_alpha.csv\")\n",
    "PND_inductive = pd.read_csv(\"PND_inductive.csv\")\n",
    "PND_heuristics = pd.read_csv(\"PND_heuristics.csv\")"
   ]
  },
  {
   "cell_type": "markdown",
   "id": "49a4d08e",
   "metadata": {},
   "source": [
    "## Pequena e Densa"
   ]
  },
  {
   "cell_type": "code",
   "execution_count": 9,
   "id": "20965a57",
   "metadata": {},
   "outputs": [],
   "source": [
    "PD_alpha = pd.read_csv(\"PD_alpha.csv\")\n",
    "PD_inductive = pd.read_csv(\"PD_inductive.csv\")\n",
    "PD_heuristics = pd.read_csv(\"PD_heuristics.csv\")"
   ]
  },
  {
   "cell_type": "markdown",
   "id": "b87094b2",
   "metadata": {},
   "source": [
    "## Grande e Não Densa"
   ]
  },
  {
   "cell_type": "code",
   "execution_count": 10,
   "id": "1a3ea756",
   "metadata": {},
   "outputs": [],
   "source": [
    "GND_alpha = pd.read_csv(\"GND_alpha.csv\")\n",
    "GND_inductive = pd.read_csv(\"GND_inductive.csv\")\n",
    "GND_heuristics = pd.read_csv(\"GND_heuristics.csv\")"
   ]
  },
  {
   "cell_type": "markdown",
   "id": "855914f9",
   "metadata": {},
   "source": [
    "## Grande e Densa"
   ]
  },
  {
   "cell_type": "code",
   "execution_count": 11,
   "id": "5266e5d5",
   "metadata": {},
   "outputs": [],
   "source": [
    "GD_alpha = pd.read_csv(\"GD_alpha.csv\")\n",
    "GD_inductive = pd.read_csv(\"GD_inductive.csv\")\n",
    "GD_heuristics = pd.read_csv(\"GD_heuristics.csv\")"
   ]
  },
  {
   "cell_type": "code",
   "execution_count": 12,
   "id": "43880ff8",
   "metadata": {},
   "outputs": [
    {
     "data": {
      "text/plain": [
       "<AxesSubplot:xlabel='Fitness', ylabel='Count'>"
      ]
     },
     "execution_count": 12,
     "metadata": {},
     "output_type": "execute_result"
    },
    {
     "data": {
      "image/png": "[encoded data removed]",
      "text/plain": [
       "<Figure size 640x480 with 1 Axes>"
      ]
     },
     "metadata": {},
     "output_type": "display_data"
    }
   ],
   "source": [
    "sns.histplot(GND_inductive['Fitness'])"
   ]
  },
  {
   "cell_type": "code",
   "execution_count": 20,
   "id": "40955cd3",
   "metadata": {},
   "outputs": [
    {
     "data": {
      "text/plain": [
       "0.0006598110540658363"
      ]
     },
     "execution_count": 20,
     "metadata": {},
     "output_type": "execute_result"
    }
   ],
   "source": [
    "GD_inductive['Fitness'].std()"
   ]
  },
  {
   "cell_type": "code",
   "execution_count": 17,
   "id": "cf713947",
   "metadata": {},
   "outputs": [
    {
     "data": {
      "text/plain": [
       "0.752875086008573"
      ]
     },
     "execution_count": 17,
     "metadata": {},
     "output_type": "execute_result"
    }
   ],
   "source": [
    "PD_heuristics['Precision'].mean()"
   ]
  },
  {
   "cell_type": "code",
   "execution_count": 39,
   "id": "9c43762b",
   "metadata": {},
   "outputs": [
    {
     "data": {
      "text/plain": [
       "<AxesSubplot:xlabel='Precision', ylabel='Count'>"
      ]
     },
     "execution_count": 39,
     "metadata": {},
     "output_type": "execute_result"
    },
    {
     "data": {
      "image/png": "[encoded data removed]",
      "text/plain": [
       "<Figure size 640x480 with 1 Axes>"
      ]
     },
     "metadata": {},
     "output_type": "display_data"
    }
   ],
   "source": [
    "sns.histplot(GD_heuristics['Precision'])"
   ]
  },
  {
   "cell_type": "code",
   "execution_count": 2,
   "id": "b4bab17b",
   "metadata": {},
   "outputs": [],
   "source": [
    "PND_Teste = pd.read_csv(\"PND_Teste_Hipoteses.csv\")\n",
    "GND_Teste = pd.read_csv(\"GND_Teste_Hipoteses.csv\")\n",
    "PD_Teste = pd.read_csv(\"PD_Teste_Hipoteses.csv\")\n",
    "GD_Teste = pd.read_csv(\"GD_Teste_Hipoteses.csv\")"
   ]
  },
  {
   "cell_type": "code",
   "execution_count": 10,
   "id": "488c55f3",
   "metadata": {},
   "outputs": [
    {
     "data": {
      "text/html": [
       "<div>\n",
       "<style scoped>\n",
       "    .dataframe tbody tr th:only-of-type {\n",
       "        vertical-align: middle;\n",
       "    }\n",
       "\n",
       "    .dataframe tbody tr th {\n",
       "        vertical-align: top;\n",
       "    }\n",
       "\n",
       "    .dataframe thead th {\n",
       "        text-align: right;\n",
       "    }\n",
       "</style>\n",
       "<table border=\"1\" class=\"dataframe\">\n",
       "  <thead>\n",
       "    <tr style=\"text-align: right;\">\n",
       "      <th></th>\n",
       "      <th>name</th>\n",
       "      <th>fitness_mean</th>\n",
       "      <th>precision_mean</th>\n",
       "      <th>simplicity_mean</th>\n",
       "      <th>generalization_mean</th>\n",
       "      <th>fitness_sd</th>\n",
       "      <th>precision_sd</th>\n",
       "      <th>simplicity_sd</th>\n",
       "      <th>generalization_sd</th>\n",
       "      <th>fitness_alfa</th>\n",
       "      <th>precision_alfa</th>\n",
       "      <th>simplicity_alfa</th>\n",
       "      <th>generalization_alfa</th>\n",
       "    </tr>\n",
       "  </thead>\n",
       "  <tbody>\n",
       "    <tr>\n",
       "      <th>0</th>\n",
       "      <td>Alpha Miner</td>\n",
       "      <td>0.783556</td>\n",
       "      <td>0.983920</td>\n",
       "      <td>0.340604</td>\n",
       "      <td>0.731847</td>\n",
       "      <td>0.087488</td>\n",
       "      <td>0.016264</td>\n",
       "      <td>0.102722</td>\n",
       "      <td>0.030625</td>\n",
       "      <td>0.760556</td>\n",
       "      <td>0.977920</td>\n",
       "      <td>0.313604</td>\n",
       "      <td>0.722847</td>\n",
       "    </tr>\n",
       "    <tr>\n",
       "      <th>1</th>\n",
       "      <td>Inductive Miner</td>\n",
       "      <td>0.999961</td>\n",
       "      <td>0.227922</td>\n",
       "      <td>0.497993</td>\n",
       "      <td>0.754227</td>\n",
       "      <td>0.000660</td>\n",
       "      <td>0.148518</td>\n",
       "      <td>0.084676</td>\n",
       "      <td>0.032651</td>\n",
       "      <td>NaN</td>\n",
       "      <td>0.188922</td>\n",
       "      <td>0.474993</td>\n",
       "      <td>0.744227</td>\n",
       "    </tr>\n",
       "    <tr>\n",
       "      <th>2</th>\n",
       "      <td>Heuristics Miner</td>\n",
       "      <td>0.908627</td>\n",
       "      <td>0.684604</td>\n",
       "      <td>0.860077</td>\n",
       "      <td>0.796655</td>\n",
       "      <td>0.055167</td>\n",
       "      <td>0.259116</td>\n",
       "      <td>0.054492</td>\n",
       "      <td>0.017152</td>\n",
       "      <td>0.893627</td>\n",
       "      <td>0.618604</td>\n",
       "      <td>0.845077</td>\n",
       "      <td>0.790655</td>\n",
       "    </tr>\n",
       "  </tbody>\n",
       "</table>\n",
       "</div>"
      ],
      "text/plain": [
       "               name  fitness_mean  precision_mean  simplicity_mean  \\\n",
       "0       Alpha Miner      0.783556        0.983920         0.340604   \n",
       "1   Inductive Miner      0.999961        0.227922         0.497993   \n",
       "2  Heuristics Miner      0.908627        0.684604         0.860077   \n",
       "\n",
       "   generalization_mean  fitness_sd  precision_sd  simplicity_sd  \\\n",
       "0             0.731847    0.087488      0.016264       0.102722   \n",
       "1             0.754227    0.000660      0.148518       0.084676   \n",
       "2             0.796655    0.055167      0.259116       0.054492   \n",
       "\n",
       "   generalization_sd  fitness_alfa  precision_alfa  simplicity_alfa  \\\n",
       "0           0.030625      0.760556        0.977920         0.313604   \n",
       "1           0.032651           NaN        0.188922         0.474993   \n",
       "2           0.017152      0.893627        0.618604         0.845077   \n",
       "\n",
       "   generalization_alfa  \n",
       "0             0.722847  \n",
       "1             0.744227  \n",
       "2             0.790655  "
      ]
     },
     "execution_count": 10,
     "metadata": {},
     "output_type": "execute_result"
    }
   ],
   "source": [
    "GD_Teste"
   ]
  },
  {
   "cell_type": "code",
   "execution_count": null,
   "id": "d08548eb",
   "metadata": {},
   "outputs": [],
   "source": []
  }
 ],
 "metadata": {
  "kernelspec": {
   "display_name": "Python 3 (ipykernel)",
   "language": "python",
   "name": "python3"
  },
  "language_info": {
   "codemirror_mode": {
    "name": "ipython",
    "version": 3
   },
   "file_extension": ".py",
   "mimetype": "text/x-python",
   "name": "python",
   "nbconvert_exporter": "python",
   "pygments_lexer": "ipython3",
   "version": "3.9.13"
  }
 },
 "nbformat": 4,
 "nbformat_minor": 5
}
